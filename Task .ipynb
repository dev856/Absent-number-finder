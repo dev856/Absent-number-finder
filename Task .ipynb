{
 "cells": [
  {
   "cell_type": "code",
   "execution_count": 3,
   "id": "c345b74a",
   "metadata": {},
   "outputs": [
    {
     "name": "stdout",
     "output_type": "stream",
     "text": [
      "Enter the csv file name:\n",
      "data4\n"
     ]
    }
   ],
   "source": [
    "# importing the module\n",
    "import csv\n",
    "\n",
    "# open the file in read mode\n",
    "print(\"Enter the csv file name:\")\n",
    "name = input()\n",
    "filename = open('data8.csv', 'r')\n",
    "filename1= open(name+\".csv\", 'r')\n",
    "# creating dictreader object\n",
    "file = csv.DictReader(filename)\n",
    "file2 = csv.DictReader(filename1)\n",
    "# craeting empty lists\n",
    "month = []\n",
    "month1 = []\n",
    "result = []\n",
    "for col in file:\n",
    "    month.append(col['ï»¿Full Name'])\n",
    "    \n",
    "for col1 in file2:\n",
    "    month1.append(col1['ï»¿Full Name'])\n",
    "\n",
    "    \n",
    "file1 = open(name+\".txt\",\"w\")\n",
    "\n",
    "file1.write(\"Absent student numbers:\\n\")\n",
    "\n",
    "month.sort()\n",
    "month1.sort()\n",
    "\n",
    "result=(set(month).difference(month1))\n",
    "     \n",
    "    \n",
    "for items in result:\n",
    "    file1.write('%s\\n' %items)\n",
    "        \n",
    "file1.close()    \n"
   ]
  },
  {
   "cell_type": "code",
   "execution_count": null,
   "id": "685a9c83",
   "metadata": {},
   "outputs": [],
   "source": []
  }
 ],
 "metadata": {
  "kernelspec": {
   "display_name": "Python 3",
   "language": "python",
   "name": "python3"
  },
  "language_info": {
   "codemirror_mode": {
    "name": "ipython",
    "version": 3
   },
   "file_extension": ".py",
   "mimetype": "text/x-python",
   "name": "python",
   "nbconvert_exporter": "python",
   "pygments_lexer": "ipython3",
   "version": "3.9.5"
  }
 },
 "nbformat": 4,
 "nbformat_minor": 5
}
